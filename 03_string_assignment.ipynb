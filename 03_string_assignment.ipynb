{
 "cells": [
  {
   "cell_type": "code",
   "execution_count": 19,
   "id": "68b6a528",
   "metadata": {},
   "outputs": [
    {
     "name": "stdout",
     "output_type": "stream",
     "text": [
      "\n",
      "Q1: Reverse the string 'Python Programming'\n",
      "gnimmargorP nohtyP\n"
     ]
    }
   ],
   "source": [
    "# Question 1\n",
    "print(\"\\nQ1: Reverse the string 'Python Programming'\")\n",
    "print(\"Python Programming\"[::-1])\n"
   ]
  },
  {
   "cell_type": "code",
   "execution_count": 20,
   "metadata": {},
   "outputs": [
    {
     "name": "stdout",
     "output_type": "stream",
     "text": [
      "\n",
      "Q2: Check if 'racecar' is a palindrome\n",
      "True\n"
     ]
    }
   ],
   "source": [
    "# Question 2\n",
    "print(\"\\nQ2: Check if 'racecar' is a palindrome\")\n",
    "s = \"racecar\"\n",
    "print(s == s[::-1])"
   ]
  },
  {
   "cell_type": "code",
   "execution_count": 21,
   "metadata": {},
   "outputs": [
    {
     "name": "stdout",
     "output_type": "stream",
     "text": [
      "\n",
      "Q3: Count the number of words\n",
      "6\n"
     ]
    }
   ],
   "source": [
    "# Question 3\n",
    "print(\"\\nQ3: Count the number of words\")\n",
    "print(len(\"Python is a great programming language\".split()))"
   ]
  },
  {
   "cell_type": "code",
   "execution_count": 22,
   "metadata": {},
   "outputs": [
    {
     "name": "stdout",
     "output_type": "stream",
     "text": [
      "\n",
      "Q4: Convert to title case\n",
      "Hello World\n"
     ]
    }
   ],
   "source": [
    "# Question 4\n",
    "print(\"\\nQ4: Convert to title case\")\n",
    "print(\"hello world\".title())\n"
   ]
  },
  {
   "cell_type": "code",
   "execution_count": 23,
   "metadata": {},
   "outputs": [
    {
     "name": "stdout",
     "output_type": "stream",
     "text": [
      "\n",
      "Q5: Find length of 'Data Science'\n",
      "12\n"
     ]
    }
   ],
   "source": [
    "# Question 5\n",
    "print(\"\\nQ5: Find length of 'Data Science'\")\n",
    "print(len(\"Data Science\"))\n"
   ]
  },
  {
   "cell_type": "code",
   "execution_count": 24,
   "metadata": {},
   "outputs": [
    {
     "name": "stdout",
     "output_type": "stream",
     "text": [
      "\n",
      "Q6: Replace spaces with underscores\n",
      "Machine_Learning\n"
     ]
    }
   ],
   "source": [
    "# Question 6\n",
    "print(\"\\nQ6: Replace spaces with underscores\")\n",
    "print(\"Machine Learning\".replace(\" \", \"_\"))\n"
   ]
  },
  {
   "cell_type": "code",
   "execution_count": 25,
   "metadata": {},
   "outputs": [
    {
     "name": "stdout",
     "output_type": "stream",
     "text": [
      "\n",
      "Q7: Check if 'python' in string\n",
      "True\n"
     ]
    }
   ],
   "source": [
    "# Question 7\n",
    "print(\"\\nQ7: Check if 'python' in string\")\n",
    "print(\"python\" in \"Python Programming Language\".lower())\n"
   ]
  },
  {
   "cell_type": "code",
   "execution_count": 26,
   "metadata": {},
   "outputs": [
    {
     "name": "stdout",
     "output_type": "stream",
     "text": [
      "\n",
      "Q8: First 5 chars\n",
      "Artif\n"
     ]
    }
   ],
   "source": [
    "# Question 8\n",
    "print(\"\\nQ8: First 5 chars\")\n",
    "print(\"Artificial Intelligence\"[:5])\n"
   ]
  },
  {
   "cell_type": "code",
   "execution_count": 27,
   "metadata": {},
   "outputs": [
    {
     "name": "stdout",
     "output_type": "stream",
     "text": [
      "\n",
      "Q9: To lowercase\n",
      "uppercase\n"
     ]
    }
   ],
   "source": [
    "# Question 9\n",
    "print(\"\\nQ9: To lowercase\")\n",
    "print(\"UPPERCASE\".lower())\n"
   ]
  },
  {
   "cell_type": "code",
   "execution_count": 28,
   "metadata": {},
   "outputs": [
    {
     "name": "stdout",
     "output_type": "stream",
     "text": [
      "\n",
      "Q10: Remove vowels\n",
      "Cmptr Scnc\n"
     ]
    }
   ],
   "source": [
    "# Question 10\n",
    "print(\"\\nQ10: Remove vowels\")\n",
    "text = \"Computer Science\"\n",
    "vowels = \"aeiou\"\n",
    "print(\"\".join(c for c in text if c.lower() not in vowels))"
   ]
  },
  {
   "cell_type": "code",
   "execution_count": 29,
   "id": "49c78364",
   "metadata": {},
   "outputs": [
    {
     "name": "stdout",
     "output_type": "stream",
     "text": [
      "\n",
      "Q11: Most frequent char in 'mississippi'\n",
      "('i', 4)\n"
     ]
    }
   ],
   "source": [
    "# Question 11\n",
    "print(\"\\nQ11: Most frequent char in 'mississippi'\")\n",
    "from collections import Counter\n",
    "print(Counter(\"mississippi\").most_common(1)[0])\n"
   ]
  },
  {
   "cell_type": "code",
   "execution_count": 30,
   "id": "14115c04",
   "metadata": {},
   "outputs": [
    {
     "name": "stdout",
     "output_type": "stream",
     "text": [
      "\n",
      "Q12: Anagram check\n",
      "True\n"
     ]
    }
   ],
   "source": [
    "# Question 12\n",
    "print(\"\\nQ12: Anagram check\")\n",
    "print(sorted(\"listen\") == sorted(\"silent\"))"
   ]
  },
  {
   "cell_type": "code",
   "execution_count": 31,
   "metadata": {},
   "outputs": [
    {
     "name": "stdout",
     "output_type": "stream",
     "text": [
      "\n",
      "Q13: Capitalize first letter of each word\n",
      "Python Programming Language\n"
     ]
    }
   ],
   "source": [
    "# Question 13\n",
    "print(\"\\nQ13: Capitalize first letter of each word\")\n",
    "print(\"python programming language\".title())"
   ]
  },
  {
   "cell_type": "code",
   "execution_count": 32,
   "id": "6e86bc4f",
   "metadata": {},
   "outputs": [
    {
     "name": "stdout",
     "output_type": "stream",
     "text": [
      "\n",
      "Q14: Count consonants in 'Hello World'\n",
      "7\n"
     ]
    }
   ],
   "source": [
    "# Question 14\n",
    "print(\"\\nQ14: Count consonants in 'Hello World'\")\n",
    "print(sum(1 for c in \"Hello World\" if c.isalpha() and c.lower() not in vowels))\n"
   ]
  },
  {
   "cell_type": "code",
   "execution_count": 33,
   "metadata": {},
   "outputs": [
    {
     "name": "stdout",
     "output_type": "stream",
     "text": [
      "\n",
      "Q15: Longest word\n",
      "programming\n"
     ]
    }
   ],
   "source": [
    "# Question 15\n",
    "print(\"\\nQ15: Longest word\")\n",
    "words = \"Python is a programming language\".split()\n",
    "print(max(words, key=len))\n"
   ]
  },
  {
   "cell_type": "code",
   "execution_count": 34,
   "metadata": {},
   "outputs": [
    {
     "name": "stdout",
     "output_type": "stream",
     "text": [
      "\n",
      "Q16: Remove punctuation\n",
      "Hello World How are you\n"
     ]
    }
   ],
   "source": [
    "# Question 16\n",
    "print(\"\\nQ16: Remove punctuation\")\n",
    "import string\n",
    "s = \"Hello, World! How are you?\"\n",
    "print(\"\".join(c for c in s if c not in string.punctuation))\n"
   ]
  },
  {
   "cell_type": "code",
   "execution_count": 35,
   "id": "e7ba5f30",
   "metadata": {},
   "outputs": [
    {
     "name": "stdout",
     "output_type": "stream",
     "text": [
      "\n",
      "Q17: Starts with Python?\n",
      "True\n"
     ]
    }
   ],
   "source": [
    "# Question 17\n",
    "print(\"\\nQ17: Starts with Python?\")\n",
    "print(\"Python Programming\".startswith(\"Python\"))"
   ]
  },
  {
   "cell_type": "code",
   "execution_count": 36,
   "id": "957c20b6",
   "metadata": {},
   "outputs": [
    {
     "name": "stdout",
     "output_type": "stream",
     "text": [
      "\n",
      "Q18: First index of 'o'\n",
      "4\n"
     ]
    }
   ],
   "source": [
    "# Question 18\n",
    "print(\"\\nQ18: First index of 'o'\")\n",
    "print(\"Hello World\".index(\"o\"))\n"
   ]
  },
  {
   "cell_type": "code",
   "execution_count": 37,
   "id": "0856d5d5",
   "metadata": {},
   "outputs": [
    {
     "name": "stdout",
     "output_type": "stream",
     "text": [
      "\n",
      "Q19: Split by comma\n",
      "['apple', 'banana', 'orange']\n"
     ]
    }
   ],
   "source": [
    "# Question 19\n",
    "print(\"\\nQ19: Split by comma\")\n",
    "print(\"apple,banana,orange\".split(\",\"))\n"
   ]
  },
  {
   "cell_type": "code",
   "execution_count": 38,
   "id": "14b7a0af",
   "metadata": {},
   "outputs": [
    {
     "name": "stdout",
     "output_type": "stream",
     "text": [
      "\n",
      "Q20: Join with spaces\n",
      "Python is awesome\n"
     ]
    }
   ],
   "source": [
    "# Question 20\n",
    "print(\"\\nQ20: Join with spaces\")\n",
    "print(\" \".join(['Python', 'is', 'awesome']))"
   ]
  },
  {
   "cell_type": "code",
   "execution_count": 39,
   "id": "6cc39437",
   "metadata": {},
   "outputs": [
    {
     "name": "stdout",
     "output_type": "stream",
     "text": [
      "\n",
      "Q21: Digits only?\n",
      "True\n"
     ]
    }
   ],
   "source": [
    "# Question 21\n",
    "print(\"\\nQ21: Digits only?\")\n",
    "print(\"12345\".isdigit())"
   ]
  },
  {
   "cell_type": "code",
   "execution_count": 40,
   "id": "dc213832",
   "metadata": {},
   "outputs": [
    {
     "name": "stdout",
     "output_type": "stream",
     "text": [
      "\n",
      "Q22: Letters only?\n",
      "True\n"
     ]
    }
   ],
   "source": [
    "# Question 22\n",
    "print(\"\\nQ22: Letters only?\")\n",
    "print(\"HelloWorld\".isalpha())\n"
   ]
  },
  {
   "cell_type": "code",
   "execution_count": 41,
   "id": "aae08092",
   "metadata": {},
   "outputs": [
    {
     "name": "stdout",
     "output_type": "stream",
     "text": [
      "\n",
      "Q23: Alternating case\n",
      "hElLo wOrLd\n"
     ]
    }
   ],
   "source": [
    "# Question 23\n",
    "print(\"\\nQ23: Alternating case\")\n",
    "s = \"hello world\"\n",
    "print(\"\".join(c.upper() if i % 2 else c.lower() for i, c in enumerate(s)))\n"
   ]
  },
  {
   "cell_type": "code",
   "execution_count": 42,
   "id": "aff1ba1d",
   "metadata": {},
   "outputs": [
    {
     "name": "stdout",
     "output_type": "stream",
     "text": [
      "\n",
      "Q24: All positions of 'a'\n",
      "[1, 3, 5]\n"
     ]
    }
   ],
   "source": [
    "# Question 24\n",
    "print(\"\\nQ24: All positions of 'a'\")\n",
    "s = \"banana\"\n",
    "print([i for i, c in enumerate(s) if c == \"a\"])\n"
   ]
  },
  {
   "cell_type": "code",
   "execution_count": 43,
   "id": "24e4f32f",
   "metadata": {},
   "outputs": [
    {
     "name": "stdout",
     "output_type": "stream",
     "text": [
      "\n",
      "Q25: Strip whitespace\n",
      "Hello World\n"
     ]
    }
   ],
   "source": [
    "# Question 25\n",
    "print(\"\\nQ25: Strip whitespace\")\n",
    "print(\"  Hello World  \".strip())"
   ]
  },
  {
   "cell_type": "code",
   "execution_count": 44,
   "id": "c7c5e01c",
   "metadata": {},
   "outputs": [
    {
     "name": "stdout",
     "output_type": "stream",
     "text": [
      "\n",
      "Q26: Ends with 'ing'?\n",
      "True\n"
     ]
    }
   ],
   "source": [
    "# Question 26\n",
    "print(\"\\nQ26: Ends with 'ing'?\")\n",
    "print(\"programming\".endswith(\"ing\"))"
   ]
  },
  {
   "cell_type": "code",
   "execution_count": 45,
   "id": "4ac9355c",
   "metadata": {},
   "outputs": [
    {
     "name": "stdout",
     "output_type": "stream",
     "text": [
      "\n",
      "Q27: Replace first o with 0\n",
      "Hell0 World\n"
     ]
    }
   ],
   "source": [
    "# Question 27\n",
    "print(\"\\nQ27: Replace first o with 0\")\n",
    "print(\"Hello World\".replace(\"o\", \"0\", 1))\n"
   ]
  },
  {
   "cell_type": "code",
   "execution_count": 46,
   "id": "13b73001",
   "metadata": {},
   "outputs": [
    {
     "name": "stdout",
     "output_type": "stream",
     "text": [
      "\n",
      "Q28: Shortest word\n",
      "a\n"
     ]
    }
   ],
   "source": [
    "# Question 28\n",
    "print(\"\\nQ28: Shortest word\")\n",
    "words = \"Python is a programming language\".split()\n",
    "print(min(words, key=len))\n"
   ]
  },
  {
   "cell_type": "code",
   "execution_count": 47,
   "id": "27291496",
   "metadata": {},
   "outputs": [
    {
     "name": "stdout",
     "output_type": "stream",
     "text": [
      "\n",
      "Q29: Words starting with p\n",
      "3\n"
     ]
    }
   ],
   "source": [
    "# Question 29\n",
    "print(\"\\nQ29: Words starting with p\")\n",
    "print(sum(1 for w in \"Python programming is powerful\".split() if w.lower().startswith(\"p\")))\n"
   ]
  },
  {
   "cell_type": "code",
   "execution_count": 48,
   "id": "4e4c524e",
   "metadata": {},
   "outputs": [
    {
     "name": "stdout",
     "output_type": "stream",
     "text": [
      "\n",
      "Q30: Reverse words order\n",
      "Python World Hello\n"
     ]
    }
   ],
   "source": [
    "print(\"\\nQ30: Reverse words order\")\n",
    "print(\" \".join(\"Hello World Python\".split()[::-1]))\n"
   ]
  },
  {
   "cell_type": "code",
   "execution_count": 49,
   "id": "12212d20",
   "metadata": {},
   "outputs": [
    {
     "name": "stdout",
     "output_type": "stream",
     "text": [
      "\n",
      "Q31: Valid email check\n",
      "True\n"
     ]
    }
   ],
   "source": [
    "# Question 31\n",
    "print(\"\\nQ31: Valid email check\")\n",
    "import re\n",
    "print(bool(re.match(r\"[^@]+@[^@]+\\.[^@]+\", \"user@example.com\")))\n"
   ]
  },
  {
   "cell_type": "code",
   "execution_count": 50,
   "id": "75ce3f56",
   "metadata": {},
   "outputs": [
    {
     "name": "stdout",
     "output_type": "stream",
     "text": [
      "\n",
      "Q32: Extract domain\n",
      "www.example.com\n"
     ]
    }
   ],
   "source": [
    "# Question 32\n",
    "print(\"\\nQ32: Extract domain\")\n",
    "url = \"https://www.example.com/path\"\n",
    "print(url.split(\"/\")[2])\n"
   ]
  },
  {
   "cell_type": "code",
   "execution_count": 51,
   "id": "23289fa4",
   "metadata": {},
   "outputs": [
    {
     "name": "stdout",
     "output_type": "stream",
     "text": [
      "\n",
      "Q33: Count lines\n",
      "3\n"
     ]
    }
   ],
   "source": [
    "# Question 33\n",
    "print(\"\\nQ33: Count lines\")\n",
    "s = \"\"\"line1\n",
    "line2\n",
    "line3\"\"\"\n",
    "print(len(s.splitlines()))"
   ]
  },
  {
   "cell_type": "code",
   "execution_count": 52,
   "id": "2e7a8b4c",
   "metadata": {},
   "outputs": [
    {
     "name": "stdout",
     "output_type": "stream",
     "text": [
      "\n",
      "Q34: Common characters\n",
      "{'o', 'l'}\n"
     ]
    }
   ],
   "source": [
    "\n",
    "# Question 34\n",
    "print(\"\\nQ34: Common characters\")\n",
    "print(set(\"hello\") & set(\"world\"))"
   ]
  },
  {
   "cell_type": "code",
   "execution_count": 53,
   "id": "a8a1b9aa",
   "metadata": {},
   "outputs": [
    {
     "name": "stdout",
     "output_type": "stream",
     "text": [
      "\n",
      "Q35: Valid phone check\n",
      "True\n"
     ]
    }
   ],
   "source": [
    "# Question 35\n",
    "print(\"\\nQ35: Valid phone check\")\n",
    "print(bool(re.match(r\"^\\+?\\d[\\d\\-]+$\", \"+1-555-123-4567\")))\n"
   ]
  },
  {
   "cell_type": "code",
   "execution_count": 54,
   "id": "46f7023d",
   "metadata": {},
   "outputs": [
    {
     "name": "stdout",
     "output_type": "stream",
     "text": [
      "\n",
      "Q36: Extract numbers\n",
      "['123', '456', '789']\n"
     ]
    }
   ],
   "source": [
    "# Question 36\n",
    "print(\"\\nQ36: Extract numbers\")\n",
    "print(re.findall(r\"\\d+\", \"abc123def456ghi789\"))"
   ]
  },
  {
   "cell_type": "code",
   "execution_count": 55,
   "id": "2bb17f36",
   "metadata": {},
   "outputs": [
    {
     "name": "stdout",
     "output_type": "stream",
     "text": [
      "\n",
      "Q37: snake_case to camelCase\n",
      "snakeCase\n"
     ]
    }
   ],
   "source": [
    "# Question 37\n",
    "print(\"\\nQ37: snake_case to camelCase\")\n",
    "s = \"snake_case\"\n",
    "parts = s.split(\"_\")\n",
    "print(parts[0] + \"\".join(p.capitalize() for p in parts[1:]))\n"
   ]
  },
  {
   "cell_type": "code",
   "execution_count": 56,
   "id": "cab02a47",
   "metadata": {},
   "outputs": [
    {
     "name": "stdout",
     "output_type": "stream",
     "text": [
      "\n",
      "Q38: Palindrome ignoring case & spaces\n",
      "True\n"
     ]
    }
   ],
   "source": [
    "# Question 38\n",
    "print(\"\\nQ38: Palindrome ignoring case & spaces\")\n",
    "s = \"A man a plan a canal Panama\"\n",
    "clean = \"\".join(c.lower() for c in s if c.isalnum())\n",
    "print(clean == clean[::-1])"
   ]
  },
  {
   "cell_type": "code",
   "execution_count": 57,
   "id": "ac1ab1b1",
   "metadata": {},
   "outputs": [
    {
     "name": "stdout",
     "output_type": "stream",
     "text": [
      "\n",
      "Q39: Most common word\n",
      "('the', 2)\n"
     ]
    }
   ],
   "source": [
    "# Question 39\n",
    "print(\"\\nQ39: Most common word\")\n",
    "text = \"the quick brown fox jumps over the lazy dog\"\n",
    "words = text.split()\n",
    "print(Counter(words).most_common(1)[0])\n"
   ]
  },
  {
   "cell_type": "code",
   "execution_count": 58,
   "id": "19b72880",
   "metadata": {},
   "outputs": [
    {
     "name": "stdout",
     "output_type": "stream",
     "text": [
      "\n",
      "Q40: Generate acronym\n",
      "NAASA\n"
     ]
    }
   ],
   "source": [
    "# Question 40\n",
    "print(\"\\nQ40: Generate acronym\")\n",
    "s = \"National Aeronautics and Space Administration\"\n",
    "print(\"\".join(w[0].upper() for w in s.split()))\n"
   ]
  },
  {
   "cell_type": "code",
   "execution_count": 59,
   "id": "3b4fc2a7",
   "metadata": {},
   "outputs": [
    {
     "name": "stdout",
     "output_type": "stream",
     "text": [
      "\n",
      "Q41: Balanced parentheses?\n",
      "True\n"
     ]
    }
   ],
   "source": [
    "# Question 41\n",
    "print(\"\\nQ41: Balanced parentheses?\")\n",
    "s = \"((()))\"\n",
    "stack, balanced = [], True\n",
    "for c in s:\n",
    "    if c == \"(\":\n",
    "        stack.append(c)\n",
    "    elif c == \")\":\n",
    "        if not stack: balanced = False; break\n",
    "        stack.pop()\n",
    "print(balanced and not stack)\n"
   ]
  },
  {
   "cell_type": "code",
   "execution_count": 60,
   "id": "c4e49d68",
   "metadata": {},
   "outputs": [
    {
     "name": "stdout",
     "output_type": "stream",
     "text": [
      "\n",
      "Q42: To Morse code\n",
      ".... . .-.. .-.. --- / .-- --- .-. .-.. -..\n"
     ]
    }
   ],
   "source": [
    "# Question 42\n",
    "print(\"\\nQ42: To Morse code\")\n",
    "morse = { \"a\":\".-\",\"b\":\"-...\",\"c\":\"-.-.\",\"d\":\"-..\",\"e\":\".\",\"f\":\"..-.\",\"g\":\"--.\",\"h\":\"....\",\"i\":\"..\",\"j\":\".---\",\"k\":\"-.-\",\"l\":\".-..\",\"m\":\"--\",\"n\":\"-.\",\"o\":\"---\",\"p\":\".--.\",\"q\":\"--.-\",\"r\":\".-.\",\"s\":\"...\",\"t\":\"-\",\"u\":\"..-\",\"v\":\"...-\",\"w\":\".--\",\"x\":\"-..-\",\"y\":\"-.--\",\"z\":\"--..\",\" \":\"/\" }\n",
    "s = \"hello world\"\n",
    "print(\" \".join(morse[c] for c in s))\n",
    "\n"
   ]
  },
  {
   "cell_type": "code",
   "execution_count": 61,
   "id": "75f770cb",
   "metadata": {},
   "outputs": [
    {
     "name": "stdout",
     "output_type": "stream",
     "text": [
      "\n",
      "Q43: Longest common substring\n",
      "gramm\n"
     ]
    }
   ],
   "source": [
    "# Question 43\n",
    "print(\"\\nQ43: Longest common substring\")\n",
    "def lcs(s1, s2):\n",
    "    m = [[0]*(len(s2)+1) for _ in range(len(s1)+1)]\n",
    "    longest, end = 0, 0\n",
    "    for i in range(1,len(s1)+1):\n",
    "        for j in range(1,len(s2)+1):\n",
    "            if s1[i-1] == s2[j-1]:\n",
    "                m[i][j] = m[i-1][j-1]+1\n",
    "                if m[i][j] > longest:\n",
    "                    longest, end = m[i][j], i\n",
    "    return s1[end-longest:end]\n",
    "print(lcs(\"programming\",\"grammar\"))\n"
   ]
  },
  {
   "cell_type": "code",
   "execution_count": 62,
   "id": "e287dec0",
   "metadata": {},
   "outputs": [
    {
     "name": "stdout",
     "output_type": "stream",
     "text": [
      "\n",
      "Q44: Valid URL?\n",
      "True\n"
     ]
    }
   ],
   "source": [
    "# Question 44\n",
    "print(\"\\nQ44: Valid URL?\")\n",
    "print(bool(re.match(r\"^https?://[^\\s]+$\", \"https://www.google.com\")))\n"
   ]
  },
  {
   "cell_type": "code",
   "execution_count": 63,
   "id": "11cb399c",
   "metadata": {},
   "outputs": [
    {
     "name": "stdout",
     "output_type": "stream",
     "text": [
      "\n",
      "Q45: Words length > 5\n",
      "['Python', 'programming', 'amazing', 'powerful']\n"
     ]
    }
   ],
   "source": [
    "# Question 45\n",
    "print(\"\\nQ45: Words length > 5\")\n",
    "print([w for w in \"Python programming is amazing and powerful\".split() if len(w)>5])\n"
   ]
  },
  {
   "cell_type": "code",
   "execution_count": 64,
   "id": "0bdb9b90",
   "metadata": {},
   "outputs": [
    {
     "name": "stdout",
     "output_type": "stream",
     "text": [
      "\n",
      "Q46: Pig Latin\n",
      "ellohay orldway\n"
     ]
    }
   ],
   "source": [
    "print(\"\\nQ46: Pig Latin\")\n",
    "def pig(word):\n",
    "    return word[1:]+word[0]+\"ay\"\n",
    "print(\" \".join(pig(w) for w in \"hello world\".split()))"
   ]
  },
  {
   "cell_type": "code",
   "execution_count": 65,
   "id": "ad471ae2",
   "metadata": {},
   "outputs": [
    {
     "name": "stdout",
     "output_type": "stream",
     "text": [
      "\n",
      "Q47: Valid IPv4?\n",
      "True\n"
     ]
    }
   ],
   "source": [
    "# Question 47\n",
    "print(\"\\nQ47: Valid IPv4?\")\n",
    "print(bool(re.match(r\"^(\\d{1,3}\\.){3}\\d{1,3}$\", \"192.168.1.1\")))\n"
   ]
  },
  {
   "cell_type": "code",
   "execution_count": 66,
   "id": "90b32861",
   "metadata": {},
   "outputs": [
    {
     "name": "stdout",
     "output_type": "stream",
     "text": [
      "\n",
      "Q48: All substrings of 'abc'\n",
      "['a', 'ab', 'abc', 'b', 'bc', 'c']\n"
     ]
    }
   ],
   "source": [
    "# Question 48\n",
    "print(\"\\nQ48: All substrings of 'abc'\")\n",
    "s = \"abc\"\n",
    "print([s[i:j] for i in range(len(s)) for j in range(i+1,len(s)+1)])\n"
   ]
  },
  {
   "cell_type": "code",
   "execution_count": 67,
   "id": "bc8cfabb",
   "metadata": {},
   "outputs": [
    {
     "name": "stdout",
     "output_type": "stream",
     "text": [
      "\n",
      "Q49: ROT13\n",
      "uryyb jbeyq\n"
     ]
    }
   ],
   "source": [
    "# Question 49\n",
    "print(\"\\nQ49: ROT13\")\n",
    "import codecs\n",
    "print(codecs.encode(\"hello world\",\"rot_13\"))"
   ]
  },
  {
   "cell_type": "code",
   "execution_count": 68,
   "id": "fe71f84a",
   "metadata": {},
   "outputs": [
    {
     "name": "stdout",
     "output_type": "stream",
     "text": [
      "\n",
      "Q50: Valid credit card (Luhn check)\n",
      "True\n"
     ]
    }
   ],
   "source": [
    "# Question 50\n",
    "print(\"\\nQ50: Valid credit card (Luhn check)\")\n",
    "def luhn(card):\n",
    "    digits = [int(d) for d in str(card)]\n",
    "    for i in range(len(digits)-2,-1,-2):\n",
    "        digits[i]*=2\n",
    "        if digits[i]>9: digits[i]-=9\n",
    "    return sum(digits)%10==0\n",
    "print(luhn(\"4532015112830366\"))"
   ]
  }
 ],
 "metadata": {
  "kernelspec": {
   "display_name": "base",
   "language": "python",
   "name": "python3"
  },
  "language_info": {
   "codemirror_mode": {
    "name": "ipython",
    "version": 3
   },
   "file_extension": ".py",
   "mimetype": "text/x-python",
   "name": "python",
   "nbconvert_exporter": "python",
   "pygments_lexer": "ipython3",
   "version": "3.11.5"
  }
 },
 "nbformat": 4,
 "nbformat_minor": 5
}
