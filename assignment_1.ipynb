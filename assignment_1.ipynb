{
 "cells": [
  {
   "cell_type": "code",
   "execution_count": 3,
   "id": "825ac995",
   "metadata": {},
   "outputs": [
    {
     "name": "stdout",
     "output_type": "stream",
     "text": [
      "Question 1: Calculate the product of first 10 natural numbers\n",
      "Product: 3628800\n"
     ]
    }
   ],
   "source": [
    "# Question 1: Calculate the product of first 10 natural numbers\n",
    "print(\"Question 1: Calculate the product of first 10 natural numbers\")\n",
    "product=1\n",
    "for i in range (1, 11):\n",
    "    product *= i\n",
    "print(f\"Product: {product}\")"
   ]
  },
  {
   "cell_type": "code",
   "execution_count": 9,
   "id": "bdddc897",
   "metadata": {},
   "outputs": [
    {
     "name": "stdout",
     "output_type": "stream",
     "text": [
      "Question 2: Find the remainder when 156 is divided by 7\n",
      "Remainder: 2\n"
     ]
    }
   ],
   "source": [
    "# Question 2: Find the remainder when 156 is divided by 7\n",
    "print(\"Question 2: Find the remainder when 156 is divided by 7\")\n",
    "remainder = 156 % 7\n",
    "print(f\"Remainder: {remainder}\")"
   ]
  },
  {
   "cell_type": "code",
   "execution_count": 10,
   "id": "d89f6ad5",
   "metadata": {},
   "outputs": [
    {
     "name": "stdout",
     "output_type": "stream",
     "text": [
      "Question 3: Calculate the square of 25\n",
      "Square of 25: 625\n"
     ]
    }
   ],
   "source": [
    "# Question 3: Calculate the square of 25\n",
    "print(\"Question 3: Calculate the square of 25\")\n",
    "square = 25 **2  # using pow instead of loop\n",
    "print(f\"Square of 25: {square}\")"
   ]
  },
  {
   "cell_type": "code",
   "execution_count": null,
   "id": "0a381d13",
   "metadata": {},
   "outputs": [
    {
     "name": "stdout",
     "output_type": "stream",
     "text": [
      "Question 4: Find the cube root of 125\n",
      "Cube root of 125: 4.999999999999999\n"
     ]
    }
   ],
   "source": [
    "# Question 4: Find the cube root of 125\n",
    "print(\"Question 4: Find the cube root of 125\")\n",
    "num = 125\n",
    "cube_root = num ** (1/3)  \n",
    "print(f\"Cube root of 125: {cube_root}\")"
   ]
  },
  {
   "cell_type": "code",
   "execution_count": 13,
   "id": "e5f6262d",
   "metadata": {},
   "outputs": [
    {
     "name": "stdout",
     "output_type": "stream",
     "text": [
      "Question 5: Calculate the sum of digits in number 12345\n",
      "Sum of digits: 15\n"
     ]
    }
   ],
   "source": [
    "# Question 5: Calculate the sum of digits in number 12345\n",
    "print(\"Question 5: Calculate the sum of digits in number 12345\")\n",
    "num = 12345\n",
    "digit_sum = sum(int(digit) for digit in (str(num)))\n",
    "print(f\"Sum of digits: {digit_sum}\")\n"
   ]
  },
  {
   "cell_type": "code",
   "execution_count": 16,
   "id": "c766b591",
   "metadata": {},
   "outputs": [
    {
     "name": "stdout",
     "output_type": "stream",
     "text": [
      "Question 6: Check if 97 is a prime number\n",
      "True\n"
     ]
    }
   ],
   "source": [
    "# Question 6: Check if 97 is a prime number\n",
    "print(\"Question 6: Check if 97 is a prime number\")\n",
    "if 97%2 ==1:\n",
    "    print(\"True\")\n",
    "else:\n",
    "    print(\"False\")"
   ]
  },
  {
   "cell_type": "code",
   "execution_count": 24,
   "id": "bdc8da45",
   "metadata": {},
   "outputs": [
    {
     "name": "stdout",
     "output_type": "stream",
     "text": [
      "Question 7: Find the factorial of 8\n",
      "Factorial of 8 is 40320\n"
     ]
    }
   ],
   "source": [
    "print(\"Question 7: Find the factorial of 8\")\n",
    "num=8\n",
    "print(f\"Factorial of {num} is {math.factorial(num)}\")"
   ]
  },
  {
   "cell_type": "code",
   "execution_count": 25,
   "id": "cc734bc9",
   "metadata": {},
   "outputs": [
    {
     "name": "stdout",
     "output_type": "stream",
     "text": [
      "Question 8: Calculate the average of numbers: 15, 23, 31, 42, 56\n",
      "Average: 33.4\n"
     ]
    }
   ],
   "source": [
    "# Question 8: Calculate the average of numbers: 15, 23, 31, 42, 56\n",
    "print(\"Question 8: Calculate the average of numbers: 15, 23, 31, 42, 56\")\n",
    "numbers = [15, 23, 31, 42, 56]\n",
    "average = sum(numbers) / len(numbers)\n",
    "print(f\"Average: {average}\")"
   ]
  },
  {
   "cell_type": "code",
   "execution_count": 26,
   "id": "5b4fc5f1",
   "metadata": {},
   "outputs": [
    {
     "name": "stdout",
     "output_type": "stream",
     "text": [
      "Question 9: Find the greatest common divisor (GCD) of 48 and 36\n",
      "GCD: 12\n"
     ]
    }
   ],
   "source": [
    "# Question 9: Find the greatest common divisor (GCD) of 48 and 36\n",
    "print(\"Question 9: Find the greatest common divisor (GCD) of 48 and 36\")\n",
    "gcd = math.gcd(48, 36)\n",
    "print(f\"GCD: {gcd}\")"
   ]
  },
  {
   "cell_type": "code",
   "execution_count": null,
   "id": "5acbeb15",
   "metadata": {},
   "outputs": [
    {
     "name": "stdout",
     "output_type": "stream",
     "text": [
      "Question 10: Calculate the sum of first 20 odd numbers\n",
      "Sum of first 20 odd numbers: 400\n"
     ]
    }
   ],
   "source": [
    "# Question 10: Calculate the sum of first 20 odd numbers\n",
    "print(\"Question 10: Calculate the sum of first 20 odd numbers\")\n",
    "n = 20\n",
    "sum_odd = n ** 2\n",
    "print(f\"Sum of first 20 odd numbers: {sum_odd}\")"
   ]
  },
  {
   "cell_type": "code",
   "execution_count": null,
   "id": "4eecd63e",
   "metadata": {},
   "outputs": [],
   "source": []
  },
  {
   "cell_type": "code",
   "execution_count": null,
   "id": "d889f784",
   "metadata": {},
   "outputs": [],
   "source": []
  },
  {
   "cell_type": "code",
   "execution_count": null,
   "id": "e2f2de58",
   "metadata": {},
   "outputs": [],
   "source": []
  },
  {
   "cell_type": "code",
   "execution_count": null,
   "id": "3161be02",
   "metadata": {},
   "outputs": [],
   "source": []
  }
 ],
 "metadata": {
  "kernelspec": {
   "display_name": "base",
   "language": "python",
   "name": "python3"
  },
  "language_info": {
   "codemirror_mode": {
    "name": "ipython",
    "version": 3
   },
   "file_extension": ".py",
   "mimetype": "text/x-python",
   "name": "python",
   "nbconvert_exporter": "python",
   "pygments_lexer": "ipython3",
   "version": "3.13.5"
  }
 },
 "nbformat": 4,
 "nbformat_minor": 5
}
