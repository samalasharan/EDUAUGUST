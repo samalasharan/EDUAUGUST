{
 "cells": [
  {
   "cell_type": "markdown",
   "id": "3b702b45",
   "metadata": {},
   "source": [
    "# Dictionary Datatype Assignment - 50 Questions\n",
    "This notebook contains solved examples and 50 practice questions with solutions."
   ]
  },
  {
   "cell_type": "code",
   "execution_count": 1,
   "id": "f7c391fc",
   "metadata": {},
   "outputs": [
    {
     "name": "stdout",
     "output_type": "stream",
     "text": [
      "SOLVED EXAMPLE:\n",
      "Find the key with maximum value in a dictionary\n",
      "Dictionary: {'Alice': 85, 'Bob': 92, 'Charlie': 78, 'Diana': 95, 'Eve': 88}\n",
      "Key with maximum value: Diana\n",
      "Maximum value: 95\n"
     ]
    }
   ],
   "source": [
    "# SOLVED EXAMPLE\n",
    "print(\"SOLVED EXAMPLE:\")\n",
    "print(\"Find the key with maximum value in a dictionary\")\n",
    "scores = {'Alice': 85, 'Bob': 92, 'Charlie': 78, 'Diana': 95, 'Eve': 88}\n",
    "max_key = max(scores, key=scores.get)\n",
    "max_value = scores[max_key]\n",
    "print(f\"Dictionary: {scores}\")\n",
    "print(f\"Key with maximum value: {max_key}\")\n",
    "print(f\"Maximum value: {max_value}\")\n"
   ]
  },
  {
   "cell_type": "markdown",
   "id": "8230d007",
   "metadata": {},
   "source": [
    "### Question 1: Create a dictionary of student names and their ages"
   ]
  },
  {
   "cell_type": "code",
   "execution_count": 2,
   "id": "ddfb01d0",
   "metadata": {},
   "outputs": [
    {
     "name": "stdout",
     "output_type": "stream",
     "text": [
      "{'John': 20, 'Alice': 22, 'Bob': 19}\n"
     ]
    }
   ],
   "source": [
    "students = {'John': 20, 'Alice': 22, 'Bob': 19}\n",
    "print(students)"
   ]
  },
  {
   "cell_type": "markdown",
   "id": "f4bec1da",
   "metadata": {},
   "source": [
    "### Question 2: Add a new key-value pair to dictionary {'a': 1, 'b': 2, 'c': 3}"
   ]
  },
  {
   "cell_type": "code",
   "execution_count": 3,
   "id": "1979362f",
   "metadata": {},
   "outputs": [
    {
     "name": "stdout",
     "output_type": "stream",
     "text": [
      "{'a': 1, 'b': 2, 'c': 3, 'd': 4}\n"
     ]
    }
   ],
   "source": [
    "d = {'a': 1, 'b': 2, 'c': 3}\n",
    "d['d'] = 4\n",
    "print(d)"
   ]
  },
  {
   "cell_type": "markdown",
   "id": "11efd3c8",
   "metadata": {},
   "source": [
    "### Question 3: Get all keys from dictionary {'name': 'John', 'age': 25, 'city': 'New York'}"
   ]
  },
  {
   "cell_type": "code",
   "execution_count": 4,
   "id": "2d5c0bea",
   "metadata": {},
   "outputs": [
    {
     "name": "stdout",
     "output_type": "stream",
     "text": [
      "['name', 'age', 'city']\n"
     ]
    }
   ],
   "source": [
    "d = {'name': 'John', 'age': 25, 'city': 'New York'}\n",
    "print(list(d.keys()))"
   ]
  },
  {
   "cell_type": "markdown",
   "id": "63272def",
   "metadata": {},
   "source": [
    "### Question 4: Get all values from dictionary {'python': 3, 'java': 2, 'c++': 1}"
   ]
  },
  {
   "cell_type": "code",
   "execution_count": 5,
   "id": "b4a4a34c",
   "metadata": {},
   "outputs": [
    {
     "name": "stdout",
     "output_type": "stream",
     "text": [
      "[3, 2, 1]\n"
     ]
    }
   ],
   "source": [
    "d = {'python': 3, 'java': 2, 'c++': 1}\n",
    "print(list(d.values()))"
   ]
  },
  {
   "cell_type": "markdown",
   "id": "1df95c0e",
   "metadata": {},
   "source": [
    "### Question 5: Check if key 'age' exists in {'name': 'Alice', 'age': 30, 'city': 'London'}"
   ]
  },
  {
   "cell_type": "code",
   "execution_count": 6,
   "id": "c0776081",
   "metadata": {},
   "outputs": [
    {
     "name": "stdout",
     "output_type": "stream",
     "text": [
      "True\n"
     ]
    }
   ],
   "source": [
    "d = {'name': 'Alice', 'age': 30, 'city': 'London'}\n",
    "print('age' in d)"
   ]
  },
  {
   "cell_type": "markdown",
   "id": "f994e7fe",
   "metadata": {},
   "source": [
    "### Question 6: Remove key 'temp' from {'a': 1, 'b': 2, 'temp': 3, 'c': 4}"
   ]
  },
  {
   "cell_type": "code",
   "execution_count": 7,
   "id": "1010b25c",
   "metadata": {},
   "outputs": [
    {
     "name": "stdout",
     "output_type": "stream",
     "text": [
      "{'a': 1, 'b': 2, 'c': 4}\n"
     ]
    }
   ],
   "source": [
    "d = {'a': 1, 'b': 2, 'temp': 3, 'c': 4}\n",
    "d.pop('temp')\n",
    "print(d)"
   ]
  },
  {
   "cell_type": "markdown",
   "id": "f62f46f5",
   "metadata": {},
   "source": [
    "### Question 7: Find the sum of all values in {'math': 85, 'science': 92, 'english': 78}"
   ]
  },
  {
   "cell_type": "code",
   "execution_count": 8,
   "id": "e3236edf",
   "metadata": {},
   "outputs": [
    {
     "name": "stdout",
     "output_type": "stream",
     "text": [
      "255\n"
     ]
    }
   ],
   "source": [
    "marks = {'math': 85, 'science': 92, 'english': 78}\n",
    "print(sum(marks.values()))"
   ]
  },
  {
   "cell_type": "markdown",
   "id": "6aeac702",
   "metadata": {},
   "source": [
    "### Question 8: Create a dictionary with squares of numbers 1 to 5"
   ]
  },
  {
   "cell_type": "code",
   "execution_count": 9,
   "id": "de0ccfca",
   "metadata": {},
   "outputs": [
    {
     "name": "stdout",
     "output_type": "stream",
     "text": [
      "{1: 1, 2: 4, 3: 9, 4: 16, 5: 25}\n"
     ]
    }
   ],
   "source": [
    "squares = {x: x**2 for x in range(1,6)}\n",
    "print(squares)"
   ]
  },
  {
   "cell_type": "markdown",
   "id": "1336cb8a",
   "metadata": {},
   "source": [
    "### Question 9: Count frequency of each character in string 'hello'"
   ]
  },
  {
   "cell_type": "code",
   "execution_count": 10,
   "id": "d4a5dd0a",
   "metadata": {},
   "outputs": [
    {
     "name": "stdout",
     "output_type": "stream",
     "text": [
      "{'h': 1, 'e': 1, 'l': 2, 'o': 1}\n"
     ]
    }
   ],
   "source": [
    "s = \"hello\"\n",
    "freq = {}\n",
    "for ch in s:\n",
    "    freq[ch] = freq.get(ch, 0) + 1\n",
    "print(freq)"
   ]
  },
  {
   "cell_type": "markdown",
   "id": "67f9e067",
   "metadata": {},
   "source": [
    "### Question 10: Merge two dictionaries {'a': 1, 'b': 2} and {'c': 3, 'd': 4}"
   ]
  },
  {
   "cell_type": "code",
   "execution_count": 11,
   "id": "6d16b812",
   "metadata": {},
   "outputs": [
    {
     "name": "stdout",
     "output_type": "stream",
     "text": [
      "{'a': 1, 'b': 2, 'c': 3, 'd': 4}\n"
     ]
    }
   ],
   "source": [
    "d1 = {'a': 1, 'b': 2}\n",
    "d2 = {'c': 3, 'd': 4}\n",
    "d1.update(d2)\n",
    "print(d1)"
   ]
  },
  {
   "cell_type": "markdown",
   "id": "3ca06caf",
   "metadata": {},
   "source": [
    "### Question 11: Create a nested dictionary: {'person': {'name': 'Alice', 'age': 25}}"
   ]
  },
  {
   "cell_type": "code",
   "execution_count": 12,
   "id": "e59438ed",
   "metadata": {},
   "outputs": [
    {
     "name": "stdout",
     "output_type": "stream",
     "text": [
      "{'person': {'name': 'Alice', 'age': 25}}\n"
     ]
    }
   ],
   "source": [
    "d = {'person': {'name': 'Alice', 'age': 25}}\n",
    "print(d)"
   ]
  },
  {
   "cell_type": "markdown",
   "id": "165c42a7",
   "metadata": {},
   "source": [
    "### Question 12: Access nested value 'name' from {'person': {'name': 'Alice', 'age': 25}}"
   ]
  },
  {
   "cell_type": "code",
   "execution_count": 13,
   "id": "4f1ad63e",
   "metadata": {},
   "outputs": [
    {
     "name": "stdout",
     "output_type": "stream",
     "text": [
      "Alice\n"
     ]
    }
   ],
   "source": [
    "d = {'person': {'name': 'Alice', 'age': 25}}\n",
    "print(d['person']['name'])"
   ]
  },
  {
   "cell_type": "markdown",
   "id": "2ac39cd5",
   "metadata": {},
   "source": [
    "### Question 13: Create a dictionary with list values: {'fruits': ['apple', 'banana'], 'colors': ['red', 'blue']}"
   ]
  },
  {
   "cell_type": "code",
   "execution_count": 14,
   "id": "0e0317fc",
   "metadata": {},
   "outputs": [
    {
     "name": "stdout",
     "output_type": "stream",
     "text": [
      "{'fruits': ['apple', 'banana'], 'colors': ['red', 'blue']}\n"
     ]
    }
   ],
   "source": [
    "d = {'fruits': ['apple', 'banana'], 'colors': ['red', 'blue']}\n",
    "print(d)"
   ]
  },
  {
   "cell_type": "markdown",
   "id": "7d4c8932",
   "metadata": {},
   "source": [
    "### Question 14: Add 'orange' to the 'fruits' list in nested dictionary"
   ]
  },
  {
   "cell_type": "code",
   "execution_count": 15,
   "id": "7881fad7",
   "metadata": {},
   "outputs": [
    {
     "name": "stdout",
     "output_type": "stream",
     "text": [
      "{'fruits': ['apple', 'banana', 'orange'], 'colors': ['red', 'blue']}\n"
     ]
    }
   ],
   "source": [
    "d = {'fruits': ['apple', 'banana'], 'colors': ['red', 'blue']}\n",
    "d['fruits'].append('orange')\n",
    "print(d)"
   ]
  },
  {
   "cell_type": "markdown",
   "id": "d358d365",
   "metadata": {},
   "source": [
    "### Question 15: Create a dictionary with tuple values: {'coordinates': (10, 20), 'rgb': (255, 0, 0)}"
   ]
  },
  {
   "cell_type": "code",
   "execution_count": 16,
   "id": "13d66caa",
   "metadata": {},
   "outputs": [
    {
     "name": "stdout",
     "output_type": "stream",
     "text": [
      "{'coordinates': (10, 20), 'rgb': (255, 0, 0)}\n"
     ]
    }
   ],
   "source": [
    "d = {'coordinates': (10, 20), 'rgb': (255, 0, 0)}\n",
    "print(d)"
   ]
  },
  {
   "cell_type": "markdown",
   "id": "ea935758",
   "metadata": {},
   "source": [
    "### Question 16: Extract first coordinate from nested tuple"
   ]
  },
  {
   "cell_type": "code",
   "execution_count": 17,
   "id": "0f2f52cd",
   "metadata": {},
   "outputs": [
    {
     "name": "stdout",
     "output_type": "stream",
     "text": [
      "10\n"
     ]
    }
   ],
   "source": [
    "d = {'coordinates': (10, 20), 'rgb': (255, 0, 0)}\n",
    "print(d['coordinates'][0])"
   ]
  },
  {
   "cell_type": "markdown",
   "id": "2f1ec826",
   "metadata": {},
   "source": [
    "### Question 17: Create a dictionary with set values: {'vowels': {'a', 'e', 'i'}, 'consonants': {'b', 'c', 'd'}}"
   ]
  },
  {
   "cell_type": "code",
   "execution_count": 18,
   "id": "b7bb6a8d",
   "metadata": {},
   "outputs": [
    {
     "name": "stdout",
     "output_type": "stream",
     "text": [
      "{'vowels': {'e', 'a', 'i'}, 'consonants': {'c', 'b', 'd'}}\n"
     ]
    }
   ],
   "source": [
    "d = {'vowels': {'a','e','i'}, 'consonants': {'b','c','d'}}\n",
    "print(d)"
   ]
  },
  {
   "cell_type": "markdown",
   "id": "48bc3536",
   "metadata": {},
   "source": [
    "### Question 18: Add 'o' to vowels set in nested dictionary"
   ]
  },
  {
   "cell_type": "code",
   "execution_count": 19,
   "id": "ebe9a7d8",
   "metadata": {},
   "outputs": [
    {
     "name": "stdout",
     "output_type": "stream",
     "text": [
      "{'vowels': {'o', 'e', 'a', 'i'}, 'consonants': {'c', 'b', 'd'}}\n"
     ]
    }
   ],
   "source": [
    "d = {'vowels': {'a','e','i'}, 'consonants': {'b','c','d'}}\n",
    "d['vowels'].add('o')\n",
    "print(d)"
   ]
  },
  {
   "cell_type": "markdown",
   "id": "8330cb8f",
   "metadata": {},
   "source": [
    "### Question 19: Create a 3-level nested dictionary"
   ]
  },
  {
   "cell_type": "code",
   "execution_count": 20,
   "id": "550d5893",
   "metadata": {},
   "outputs": [
    {
     "name": "stdout",
     "output_type": "stream",
     "text": [
      "{'company': {'department': {'employee': {'name': 'John', 'id': 123}}}}\n"
     ]
    }
   ],
   "source": [
    "d = {'company': {'department': {'employee': {'name': 'John', 'id': 123}}}}\n",
    "print(d)"
   ]
  },
  {
   "cell_type": "markdown",
   "id": "d3c70bd6",
   "metadata": {},
   "source": [
    "### Question 20: Access employee name from 3-level nested dictionary"
   ]
  },
  {
   "cell_type": "code",
   "execution_count": 21,
   "id": "e0a01eaa",
   "metadata": {},
   "outputs": [
    {
     "name": "stdout",
     "output_type": "stream",
     "text": [
      "John\n"
     ]
    }
   ],
   "source": [
    "d = {'company': {'department': {'employee': {'name': 'John', 'id': 123}}}}\n",
    "print(d['company']['department']['employee']['name'])"
   ]
  },
  {
   "cell_type": "markdown",
   "id": "e825a7e2",
   "metadata": {},
   "source": [
    "### Question 21: Create a dictionary with mixed data types"
   ]
  },
  {
   "cell_type": "code",
   "execution_count": 22,
   "id": "baa8ac7b",
   "metadata": {},
   "outputs": [
    {
     "name": "stdout",
     "output_type": "stream",
     "text": [
      "{'int': 42, 'float': 3.14, 'str': 'hello', 'bool': True}\n"
     ]
    }
   ],
   "source": [
    "d = {'int': 42, 'float': 3.14, 'str': 'hello', 'bool': True}\n",
    "print(d)"
   ]
  },
  {
   "cell_type": "markdown",
   "id": "487f39b8",
   "metadata": {},
   "source": [
    "### Question 22: Check data type of each value in mixed dictionary"
   ]
  },
  {
   "cell_type": "code",
   "execution_count": 23,
   "id": "e2d983e9",
   "metadata": {},
   "outputs": [
    {
     "name": "stdout",
     "output_type": "stream",
     "text": [
      "int <class 'int'>\n",
      "float <class 'float'>\n",
      "str <class 'str'>\n",
      "bool <class 'bool'>\n"
     ]
    }
   ],
   "source": [
    "d = {'int': 42, 'float': 3.14, 'str': 'hello', 'bool': True}\n",
    "for k,v in d.items():\n",
    "    print(k, type(v))"
   ]
  },
  {
   "cell_type": "markdown",
   "id": "88f2cf60",
   "metadata": {},
   "source": [
    "### Question 23: Create a dictionary with function values"
   ]
  },
  {
   "cell_type": "code",
   "execution_count": 24,
   "id": "a45ac428",
   "metadata": {},
   "outputs": [
    {
     "name": "stdout",
     "output_type": "stream",
     "text": [
      "{'len': <built-in function len>, 'str': <class 'str'>, 'int': <class 'int'>}\n"
     ]
    }
   ],
   "source": [
    "d = {'len': len, 'str': str, 'int': int}\n",
    "print(d)"
   ]
  },
  {
   "cell_type": "markdown",
   "id": "1468d993",
   "metadata": {},
   "source": [
    "### Question 24: Apply each function to '123' using dictionary"
   ]
  },
  {
   "cell_type": "code",
   "execution_count": 25,
   "id": "16afc112",
   "metadata": {},
   "outputs": [
    {
     "name": "stdout",
     "output_type": "stream",
     "text": [
      "3\n",
      "123\n",
      "123\n"
     ]
    }
   ],
   "source": [
    "d = {'len': len, 'str': str, 'int': int}\n",
    "print(d['len'](\"123\"))\n",
    "print(d['str'](123))\n",
    "print(d['int'](\"123\"))"
   ]
  },
  {
   "cell_type": "markdown",
   "id": "b3e0aada",
   "metadata": {},
   "source": [
    "### Question 25: Create a dictionary with lambda functions"
   ]
  },
  {
   "cell_type": "code",
   "execution_count": 26,
   "id": "0277e864",
   "metadata": {},
   "outputs": [
    {
     "name": "stdout",
     "output_type": "stream",
     "text": [
      "{'double': <function <lambda> at 0x000002CAC7F8E340>, 'square': <function <lambda> at 0x000002CAC7FCF240>}\n"
     ]
    }
   ],
   "source": [
    "d = {'double': lambda x: x*2, 'square': lambda x: x**2}\n",
    "print(d)"
   ]
  },
  {
   "cell_type": "markdown",
   "id": "026d8b0b",
   "metadata": {},
   "source": [
    "### Question 26: Apply each lambda function to 5"
   ]
  },
  {
   "cell_type": "code",
   "execution_count": 27,
   "id": "e10270f0",
   "metadata": {},
   "outputs": [
    {
     "name": "stdout",
     "output_type": "stream",
     "text": [
      "10\n",
      "25\n"
     ]
    }
   ],
   "source": [
    "d = {'double': lambda x: x*2, 'square': lambda x: x**2}\n",
    "print(d['double'](5))\n",
    "print(d['square'](5))"
   ]
  },
  {
   "cell_type": "markdown",
   "id": "ca935f76",
   "metadata": {},
   "source": [
    "### Question 27: Create a dictionary with class values"
   ]
  },
  {
   "cell_type": "code",
   "execution_count": 28,
   "id": "0c8bfc9f",
   "metadata": {},
   "outputs": [
    {
     "name": "stdout",
     "output_type": "stream",
     "text": [
      "{'list': <class 'list'>, 'dict': <class 'dict'>, 'set': <class 'set'>}\n"
     ]
    }
   ],
   "source": [
    "d = {'list': list, 'dict': dict, 'set': set}\n",
    "print(d)"
   ]
  },
  {
   "cell_type": "markdown",
   "id": "1598b748",
   "metadata": {},
   "source": [
    "### Question 28: Create instances using class dictionary"
   ]
  },
  {
   "cell_type": "code",
   "execution_count": 29,
   "id": "f0c913bf",
   "metadata": {},
   "outputs": [
    {
     "name": "stdout",
     "output_type": "stream",
     "text": [
      "[1, 2, 3]\n",
      "{'a': 1, 'b': 2}\n",
      "{1, 2, 3}\n"
     ]
    }
   ],
   "source": [
    "d = {'list': list, 'dict': dict, 'set': set}\n",
    "print(d['list']([1,2,3]))\n",
    "print(d['dict']([('a',1), ('b',2)]))\n",
    "print(d['set']([1,2,2,3]))"
   ]
  },
  {
   "cell_type": "markdown",
   "id": "eb05a457",
   "metadata": {},
   "source": [
    "### Question 29: Create a dictionary with None values"
   ]
  },
  {
   "cell_type": "code",
   "execution_count": 30,
   "id": "4cc918ca",
   "metadata": {},
   "outputs": [
    {
     "name": "stdout",
     "output_type": "stream",
     "text": [
      "{'a': None, 'b': None, 'c': None}\n"
     ]
    }
   ],
   "source": [
    "d = {'a': None, 'b': None, 'c': None}\n",
    "print(d)"
   ]
  },
  {
   "cell_type": "markdown",
   "id": "7021a3a9",
   "metadata": {},
   "source": [
    "### Question 30: Replace all None values with 0"
   ]
  },
  {
   "cell_type": "code",
   "execution_count": 31,
   "id": "fcc8227c",
   "metadata": {},
   "outputs": [
    {
     "name": "stdout",
     "output_type": "stream",
     "text": [
      "{'a': 0, 'b': 0, 'c': 0}\n"
     ]
    }
   ],
   "source": [
    "d = {'a': None, 'b': None, 'c': None}\n",
    "d = {k: (0 if v is None else v) for k,v in d.items()}\n",
    "print(d)"
   ]
  },
  {
   "cell_type": "markdown",
   "id": "6fa8abe5",
   "metadata": {},
   "source": [
    "### Question 31: Create a dictionary with boolean values"
   ]
  },
  {
   "cell_type": "code",
   "execution_count": 32,
   "id": "82e1704c",
   "metadata": {},
   "outputs": [
    {
     "name": "stdout",
     "output_type": "stream",
     "text": [
      "{'is_active': True, 'is_admin': False}\n"
     ]
    }
   ],
   "source": [
    "d = {'is_active': True, 'is_admin': False}\n",
    "print(d)"
   ]
  },
  {
   "cell_type": "markdown",
   "id": "8cf42e19",
   "metadata": {},
   "source": [
    "### Question 32: Count True values in boolean dictionary"
   ]
  },
  {
   "cell_type": "code",
   "execution_count": 33,
   "id": "579b3f7e",
   "metadata": {},
   "outputs": [
    {
     "name": "stdout",
     "output_type": "stream",
     "text": [
      "1\n"
     ]
    }
   ],
   "source": [
    "d = {'is_active': True, 'is_admin': False}\n",
    "print(list(d.values()).count(True))"
   ]
  },
  {
   "cell_type": "markdown",
   "id": "11c08b9d",
   "metadata": {},
   "source": [
    "### Question 33: Create a dictionary with complex numbers"
   ]
  },
  {
   "cell_type": "code",
   "execution_count": 34,
   "id": "beda0487",
   "metadata": {},
   "outputs": [
    {
     "name": "stdout",
     "output_type": "stream",
     "text": [
      "{'z1': (3+4j), 'z2': (1+2j)}\n"
     ]
    }
   ],
   "source": [
    "d = {'z1': 3+4j, 'z2': 1+2j}\n",
    "print(d)"
   ]
  },
  {
   "cell_type": "markdown",
   "id": "682b2445",
   "metadata": {},
   "source": [
    "### Question 34: Find magnitude of each complex number"
   ]
  },
  {
   "cell_type": "code",
   "execution_count": 35,
   "id": "5ecec1ec",
   "metadata": {},
   "outputs": [
    {
     "name": "stdout",
     "output_type": "stream",
     "text": [
      "{'z1': 5.0, 'z2': 2.23606797749979}\n"
     ]
    }
   ],
   "source": [
    "d = {'z1': 3+4j, 'z2': 1+2j}\n",
    "magnitudes = {k: abs(v) for k,v in d.items()}\n",
    "print(magnitudes)"
   ]
  },
  {
   "cell_type": "markdown",
   "id": "f1705e14",
   "metadata": {},
   "source": [
    "### Question 35: Create a 4-level nested dictionary"
   ]
  },
  {
   "cell_type": "code",
   "execution_count": 36,
   "id": "42dc2d0e",
   "metadata": {},
   "outputs": [
    {
     "name": "stdout",
     "output_type": "stream",
     "text": [
      "{'a': {'b': {'c': {'d': 100}}}}\n"
     ]
    }
   ],
   "source": [
    "d = {'a': {'b': {'c': {'d': 100}}}}\n",
    "print(d)"
   ]
  },
  {
   "cell_type": "markdown",
   "id": "cbaa4963",
   "metadata": {},
   "source": [
    "### Question 36: Access deepest value in 4-level nested dictionary"
   ]
  },
  {
   "cell_type": "code",
   "execution_count": 37,
   "id": "5cb81a41",
   "metadata": {},
   "outputs": [
    {
     "name": "stdout",
     "output_type": "stream",
     "text": [
      "100\n"
     ]
    }
   ],
   "source": [
    "d = {'a': {'b': {'c': {'d': 100}}}}\n",
    "print(d['a']['b']['c']['d'])"
   ]
  },
  {
   "cell_type": "markdown",
   "id": "b6907dc5",
   "metadata": {},
   "source": [
    "### Question 37: Create a dictionary with range values"
   ]
  },
  {
   "cell_type": "code",
   "execution_count": 38,
   "id": "59821bea",
   "metadata": {},
   "outputs": [
    {
     "name": "stdout",
     "output_type": "stream",
     "text": [
      "{'r1': range(0, 3), 'r2': range(0, 5)}\n"
     ]
    }
   ],
   "source": [
    "d = {'r1': range(3), 'r2': range(5)}\n",
    "print(d)"
   ]
  },
  {
   "cell_type": "markdown",
   "id": "4d65af86",
   "metadata": {},
   "source": [
    "### Question 38: Convert each range to list"
   ]
  },
  {
   "cell_type": "code",
   "execution_count": 39,
   "id": "eb3f10ac",
   "metadata": {},
   "outputs": [
    {
     "name": "stdout",
     "output_type": "stream",
     "text": [
      "{'r1': [0, 1, 2], 'r2': [0, 1, 2, 3, 4]}\n"
     ]
    }
   ],
   "source": [
    "d = {'r1': range(3), 'r2': range(5)}\n",
    "lists = {k: list(v) for k,v in d.items()}\n",
    "print(lists)"
   ]
  },
  {
   "cell_type": "markdown",
   "id": "300d873a",
   "metadata": {},
   "source": [
    "### Question 39: Create a dictionary with generator values"
   ]
  },
  {
   "cell_type": "code",
   "execution_count": 40,
   "id": "158f4667",
   "metadata": {},
   "outputs": [
    {
     "name": "stdout",
     "output_type": "stream",
     "text": [
      "{'gen1': <generator object <genexpr> at 0x000002CAC7CF5A80>, 'gen2': <generator object <genexpr> at 0x000002CAC7EEE9B0>}\n"
     ]
    }
   ],
   "source": [
    "d = {'gen1': (x for x in range(3)), 'gen2': (y**2 for y in range(4))}\n",
    "print(d)"
   ]
  },
  {
   "cell_type": "markdown",
   "id": "a0f74dcd",
   "metadata": {},
   "source": [
    "### Question 40: Convert each generator to list"
   ]
  },
  {
   "cell_type": "code",
   "execution_count": 41,
   "id": "2b226592",
   "metadata": {},
   "outputs": [
    {
     "name": "stdout",
     "output_type": "stream",
     "text": [
      "{'gen1': [0, 1, 2], 'gen2': [0, 1, 4, 9]}\n"
     ]
    }
   ],
   "source": [
    "d = {'gen1': (x for x in range(3)), 'gen2': (y**2 for y in range(4))}\n",
    "lists = {k: list(v) for k,v in d.items()}\n",
    "print(lists)"
   ]
  },
  {
   "cell_type": "markdown",
   "id": "bf12c57c",
   "metadata": {},
   "source": [
    "### Question 41: Create a dictionary with iterator values"
   ]
  },
  {
   "cell_type": "code",
   "execution_count": 42,
   "id": "54b18c9d",
   "metadata": {},
   "outputs": [
    {
     "name": "stdout",
     "output_type": "stream",
     "text": [
      "{'iter1': <list_iterator object at 0x000002CAC7FBEE60>, 'iter2': <list_iterator object at 0x000002CAC7FBEDA0>}\n"
     ]
    }
   ],
   "source": [
    "d = {'iter1': iter([1,2,3]), 'iter2': iter(['a','b'])}\n",
    "print(d)"
   ]
  },
  {
   "cell_type": "markdown",
   "id": "e53a0bb1",
   "metadata": {},
   "source": [
    "### Question 42: Extract all elements from each iterator"
   ]
  },
  {
   "cell_type": "code",
   "execution_count": 43,
   "id": "f2bdb3c3",
   "metadata": {},
   "outputs": [
    {
     "name": "stdout",
     "output_type": "stream",
     "text": [
      "{'iter1': [1, 2, 3], 'iter2': ['a', 'b']}\n"
     ]
    }
   ],
   "source": [
    "d = {'iter1': iter([1,2,3]), 'iter2': iter(['a','b'])}\n",
    "lists = {k: list(v) for k,v in d.items()}\n",
    "print(lists)"
   ]
  },
  {
   "cell_type": "markdown",
   "id": "13f603d7",
   "metadata": {},
   "source": [
    "### Question 43: Create a dictionary with nested lists"
   ]
  },
  {
   "cell_type": "code",
   "execution_count": 44,
   "id": "e3916e79",
   "metadata": {},
   "outputs": [
    {
     "name": "stdout",
     "output_type": "stream",
     "text": [
      "{'matrix': [[1, 2], [3, 4]], 'vector': [5, 6, 7]}\n"
     ]
    }
   ],
   "source": [
    "d = {'matrix': [[1,2],[3,4]], 'vector': [5,6,7]}\n",
    "print(d)"
   ]
  },
  {
   "cell_type": "markdown",
   "id": "b80f7654",
   "metadata": {},
   "source": [
    "### Question 44: Find sum of each nested list"
   ]
  },
  {
   "cell_type": "code",
   "execution_count": 45,
   "id": "9bec018b",
   "metadata": {},
   "outputs": [
    {
     "name": "stdout",
     "output_type": "stream",
     "text": [
      "{'matrix': 10, 'vector': 18}\n"
     ]
    }
   ],
   "source": [
    "d = {'matrix': [[1,2],[3,4]], 'vector': [5,6,7]}\n",
    "sums = {k: sum(map(sum,v)) if isinstance(v[0], list) else sum(v) for k,v in d.items()}\n",
    "print(sums)"
   ]
  },
  {
   "cell_type": "markdown",
   "id": "76fd572b",
   "metadata": {},
   "source": [
    "### Question 45: Create a dictionary with nested dictionaries"
   ]
  },
  {
   "cell_type": "code",
   "execution_count": 46,
   "id": "052afff1",
   "metadata": {},
   "outputs": [
    {
     "name": "stdout",
     "output_type": "stream",
     "text": [
      "{'config': {'db': {'host': 'localhost', 'port': 5432}}}\n"
     ]
    }
   ],
   "source": [
    "d = {'config': {'db': {'host': 'localhost', 'port': 5432}}}\n",
    "print(d)"
   ]
  },
  {
   "cell_type": "markdown",
   "id": "6ed51ae8",
   "metadata": {},
   "source": [
    "### Question 46: Access database port from nested configuration"
   ]
  },
  {
   "cell_type": "code",
   "execution_count": 47,
   "id": "bb0dcaa6",
   "metadata": {},
   "outputs": [
    {
     "name": "stdout",
     "output_type": "stream",
     "text": [
      "5432\n"
     ]
    }
   ],
   "source": [
    "d = {'config': {'db': {'host': 'localhost', 'port': 5432}}}\n",
    "print(d['config']['db']['port'])"
   ]
  },
  {
   "cell_type": "markdown",
   "id": "7ca6a621",
   "metadata": {},
   "source": [
    "### Question 47: Create a dictionary with nested tuples"
   ]
  },
  {
   "cell_type": "code",
   "execution_count": 48,
   "id": "cb9df5fd",
   "metadata": {},
   "outputs": [
    {
     "name": "stdout",
     "output_type": "stream",
     "text": [
      "{'points': ((1, 2), (3, 4)), 'rgb': ((255, 0, 0), (0, 255, 0))}\n"
     ]
    }
   ],
   "source": [
    "d = {'points': ((1,2),(3,4)), 'rgb': ((255,0,0),(0,255,0))}\n",
    "print(d)"
   ]
  },
  {
   "cell_type": "markdown",
   "id": "b2864272",
   "metadata": {},
   "source": [
    "### Question 48: Extract first point coordinates"
   ]
  },
  {
   "cell_type": "code",
   "execution_count": 49,
   "id": "aeeb6a3c",
   "metadata": {},
   "outputs": [
    {
     "name": "stdout",
     "output_type": "stream",
     "text": [
      "(1, 2)\n"
     ]
    }
   ],
   "source": [
    "d = {'points': ((1,2),(3,4)), 'rgb': ((255,0,0),(0,255,0))}\n",
    "print(d['points'][0])"
   ]
  },
  {
   "cell_type": "markdown",
   "id": "1437871c",
   "metadata": {},
   "source": [
    "### Question 49: Create a dictionary with nested sets (using frozenset)"
   ]
  },
  {
   "cell_type": "code",
   "execution_count": 50,
   "id": "50d236bd",
   "metadata": {},
   "outputs": [
    {
     "name": "stdout",
     "output_type": "stream",
     "text": [
      "{'groups': {frozenset({1, 2, 3}), frozenset({4, 5, 6})}, 'categories': {frozenset({'a', 'b'}), frozenset({'c', 'd'})}}\n"
     ]
    }
   ],
   "source": [
    "d = {'groups': {frozenset({1,2,3}), frozenset({4,5,6})}, 'categories': {frozenset({'a','b'}), frozenset({'c','d'})}}\n",
    "print(d)"
   ]
  },
  {
   "cell_type": "markdown",
   "id": "500fbb9b",
   "metadata": {},
   "source": [
    "### Question 50: Find union of all nested sets"
   ]
  },
  {
   "cell_type": "code",
   "execution_count": 51,
   "id": "f70e3d3a",
   "metadata": {},
   "outputs": [
    {
     "name": "stdout",
     "output_type": "stream",
     "text": [
      "Groups union: {1, 2, 3, 4, 5, 6}\n",
      "Categories union: {'a', 'c', 'b', 'd'}\n"
     ]
    }
   ],
   "source": [
    "d = {'groups': {frozenset({1,2,3}), frozenset({4,5,6})}, 'categories': {frozenset({'a','b'}), frozenset({'c','d'})}}\n",
    "union_groups = set().union(*d['groups'])\n",
    "union_categories = set().union(*d['categories'])\n",
    "print(\"Groups union:\", union_groups)\n",
    "print(\"Categories union:\", union_categories)"
   ]
  }
 ],
 "metadata": {
  "kernelspec": {
   "display_name": "base",
   "language": "python",
   "name": "python3"
  },
  "language_info": {
   "codemirror_mode": {
    "name": "ipython",
    "version": 3
   },
   "file_extension": ".py",
   "mimetype": "text/x-python",
   "name": "python",
   "nbconvert_exporter": "python",
   "pygments_lexer": "ipython3",
   "version": "3.13.5"
  }
 },
 "nbformat": 4,
 "nbformat_minor": 5
}
