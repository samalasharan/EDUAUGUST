{
 "cells": [
  {
   "cell_type": "code",
   "execution_count": null,
   "id": "aeb810ac",
   "metadata": {},
   "outputs": [],
   "source": [
    "# SOLVED EXAMPLE\n",
    "# --------------\n",
    "# Question: Find the sum and product of all elements in a tuple\n",
    "print(\"SOLVED EXAMPLE:\")\n",
    "print(\"Find the sum and product of all elements in a tuple\")\n",
    "numbers = (2, 4, 6, 8, 10)\n",
    "sum_tuple = sum(numbers)\n",
    "product = 1\n",
    "for num in numbers:\n",
    "    product *= num\n",
    "print(f\"Tuple: {numbers}\")\n",
    "print(f\"Sum: {sum_tuple}\")\n",
    "print(f\"Product: {product}\")\n",
    "print(\"-\" * 50)"
   ]
  },
  {
   "cell_type": "code",
   "execution_count": null,
   "id": "01c00e39",
   "metadata": {},
   "outputs": [],
   "source": [
    "# Question 1: Create a tuple of first 10 natural numbers\n",
    "print(\"Question 1: Create a tuple of first 10 natural numbers\")\n",
    "tuple_natural = tuple(range(1, 11))\n",
    "print(tuple_natural)"
   ]
  },
  {
   "cell_type": "code",
   "execution_count": null,
   "id": "3fee89fe",
   "metadata": {},
   "outputs": [],
   "source": [
    "# Question 2: Find the length of tuple (1, 2, 3, 4, 5, 6, 7, 8, 9, 10)\n",
    "print(\"\\nQuestion 2: Find the length of tuple (1, 2, 3, 4, 5, 6, 7, 8, 9, 10)\")\n",
    "t = (1, 2, 3, 4, 5, 6, 7, 8, 9, 10)\n",
    "print(len(t))"
   ]
  },
  {
   "cell_type": "code",
   "execution_count": null,
   "id": "eff21971",
   "metadata": {},
   "outputs": [],
   "source": [
    "# Question 3: Access the 3rd element from tuple ('a', 'b', 'c', 'd', 'e')\n",
    "print(\"\\nQuestion 3: Access the 3rd element from tuple ('a', 'b', 'c', 'd', 'e')\")\n",
    "letters = ('a', 'b', 'c', 'd', 'e')\n",
    "print(letters[2])"
   ]
  },
  {
   "cell_type": "code",
   "execution_count": null,
   "id": "5d35a00b",
   "metadata": {},
   "outputs": [],
   "source": [
    "# Question 4: Find the maximum value in tuple (23, 45, 12, 67, 34, 89, 56)\n",
    "print(\"\\nQuestion 4: Find the maximum value in tuple (23, 45, 12, 67, 34, 89, 56)\")\n",
    "nums = (23, 45, 12, 67, 34, 89, 56)\n",
    "print(max(nums))"
   ]
  },
  {
   "cell_type": "code",
   "execution_count": null,
   "id": "1f2cdc03",
   "metadata": {},
   "outputs": [],
   "source": [
    "# Question 5: Count how many times 5 appears in (1, 5, 2, 5, 3, 5, 4, 5, 6)\n",
    "print(\"\\nQuestion 5: Count how many times 5 appears in (1, 5, 2, 5, 3, 5, 4, 5, 6)\")\n",
    "t = (1, 5, 2, 5, 3, 5, 4, 5, 6)\n",
    "print(t.count(5))"
   ]
  },
  {
   "cell_type": "code",
   "execution_count": null,
   "id": "d0b44c36",
   "metadata": {},
   "outputs": [],
   "source": [
    "# Question 6: Create a tuple of mixed data types (integer, float, string, boolean)\n",
    "print(\"\\nQuestion 6: Create a tuple of mixed data types (integer, float, string, boolean)\")\n",
    "mixed_tuple = (25, 3.14, \"hello\", True)\n",
    "print(mixed_tuple)"
   ]
  },
  {
   "cell_type": "code",
   "execution_count": null,
   "id": "d2f466e8",
   "metadata": {},
   "outputs": [],
   "source": [
    "# Question 7: Find the index of element 'python' in ('java', 'python', 'c++', 'javascript')\n",
    "print(\"\\nQuestion 7: Find the index of element 'python' in ('java', 'python', 'c++', 'javascript')\")\n",
    "langs = ('java', 'python', 'c++', 'javascript')\n",
    "print(langs.index('python'))"
   ]
  },
  {
   "cell_type": "code",
   "execution_count": null,
   "id": "289e7ac5",
   "metadata": {},
   "outputs": [],
   "source": [
    "# Question 8: Check if 25 exists in tuple (10, 20, 30, 40, 50)\n",
    "print(\"\\nQuestion 8: Check if 25 exists in tuple (10, 20, 30, 40, 50)\")\n",
    "t = (10, 20, 30, 40, 50)\n",
    "print(25 in t)"
   ]
  },
  {
   "cell_type": "code",
   "execution_count": null,
   "id": "dfde5ec3",
   "metadata": {},
   "outputs": [],
   "source": [
    "# Question 9: Create a tuple of first 5 even numbers\n",
    "print(\"\\nQuestion 9: Create a tuple of first 5 even numbers\")\n",
    "evens = tuple(x for x in range(2, 11, 2))\n",
    "print(evens)"
   ]
  },
  {
   "cell_type": "code",
   "execution_count": null,
   "id": "2023dade",
   "metadata": {},
   "outputs": [],
   "source": [
    "# Question 10: Find the average of numbers in tuple (15, 23, 31, 42, 56, 78)\n",
    "print(\"\\nQuestion 10: Find the average of numbers in tuple (15, 23, 31, 42, 56, 78)\")\n",
    "t = (15, 23, 31, 42, 56, 78)\n",
    "avg = sum(t) / len(t)\n",
    "print(avg)"
   ]
  }
 ],
 "metadata": {},
 "nbformat": 4,
 "nbformat_minor": 5
}