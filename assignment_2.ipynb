{
 "cells": [
  {
   "cell_type": "code",
   "execution_count": 1,
   "id": "25e2fd66",
   "metadata": {},
   "outputs": [
    {
     "name": "stdout",
     "output_type": "stream",
     "text": [
      "Question 1: Calculate the average of 3.14, 2.718, 1.618, 0.577\n",
      "Average: 2.01325\n"
     ]
    }
   ],
   "source": [
    "# Question 1: Calculate the average of 3.14, 2.718, 1.618, 0.577\n",
    "print(\"Question 1: Calculate the average of 3.14, 2.718, 1.618, 0.577\")\n",
    "numbers = [3.14, 2.718, 1.618, 0.577]\n",
    "average = sum(numbers) / len(numbers)\n",
    "print(f\"Average: {average}\")"
   ]
  },
  {
   "cell_type": "code",
   "execution_count": null,
   "id": "3f8e6bb0",
   "metadata": {},
   "outputs": [
    {
     "name": "stdout",
     "output_type": "stream",
     "text": [
      "\n",
      "Question 2: Convert 98.6 Fahrenheit to Celsius\n",
      "98.6°F = 37.00°C\n"
     ]
    }
   ],
   "source": [
    "# Question 2: Convert 98.6 Fahrenheit to Celsius (F = C * 9/5 + 32)\n",
    "print(\"Question 2: Convert 98.6 Fahrenheit to Celsius\")\n",
    "F = 98.6\n",
    "C = (F - 32) * 5/9\n",
    "print(f\"{F}°F = {C:.2f}°C\")\n"
   ]
  },
  {
   "cell_type": "code",
   "execution_count": 3,
   "id": "572b435c",
   "metadata": {},
   "outputs": [
    {
     "name": "stdout",
     "output_type": "stream",
     "text": [
      "Question 3: Calculate compound interest on $1000 at 5.5% for 3 years\n",
      "Compound Interest: 174.24\n"
     ]
    }
   ],
   "source": [
    "# Question 3: Calculate the compound interest on $1000 at 5.5% for 3 years\n",
    "print(\"Question 3: Calculate compound interest on $1000 at 5.5% for 3 years\")\n",
    "P = 1000\n",
    "r = 5.5 / 100\n",
    "t = 3\n",
    "CI = P * (1 + r) ** t - P\n",
    "print(f\"Compound Interest: {CI:.2f}\")"
   ]
  },
  {
   "cell_type": "code",
   "execution_count": null,
   "id": "eb68b4ff",
   "metadata": {},
   "outputs": [],
   "source": [
    "# Question 4: Find the hypotenuse of a right triangle with sides 3.5 and 4.2\n",
    "print(\"Question 4: Find the hypotenuse of a right triangle with sides 3.5 and 4.2\")\n",
    "a, b = 3.5, 4.2\n",
    "hypotenuse = math.sqrt(a**2 + b**2)\n",
    "print(f\"Hypotenuse: {hypotenuse:.3f}\")"
   ]
  },
  {
   "cell_type": "code",
   "execution_count": 8,
   "id": "d78cb2ff",
   "metadata": {},
   "outputs": [
    {
     "name": "stdout",
     "output_type": "stream",
     "text": [
      "Question 5: Calculate the volume of a sphere with radius 7.8\n",
      "Volume of sphere: 1987.80\n"
     ]
    }
   ],
   "source": [
    "# Question 5: Calculate the volume of a sphere with radius 7.8\n",
    "print(\"Question 5: Calculate the volume of a sphere with radius 7.8\")\n",
    "r = 7.8\n",
    "pi = 3.14159\n",
    "volume = (4/3) * pi * r**3\n",
    "print(f\"Volume of sphere: {volume:.2f}\")"
   ]
  },
  {
   "cell_type": "code",
   "execution_count": 7,
   "id": "ac96eefc",
   "metadata": {},
   "outputs": [
    {
     "name": "stdout",
     "output_type": "stream",
     "text": [
      "Question 7: Calculate the percentage: 45 out of 67\n",
      "Percentage: 67.16%\n"
     ]
    }
   ],
   "source": [
    "# Question 7: Calculate the percentage: 45 out of 67\n",
    "print(\"Question 7: Calculate the percentage: 45 out of 67\")\n",
    "percentage = (45 / 67) * 100\n",
    "print(f\"Percentage: {percentage:.2f}%\")"
   ]
  },
  {
   "cell_type": "code",
   "execution_count": 16,
   "id": "9b319a20",
   "metadata": {},
   "outputs": [
    {
     "name": "stdout",
     "output_type": "stream",
     "text": [
      "Question 8: Find the square root of 23.456\n",
      "Square root: 4.8431\n"
     ]
    }
   ],
   "source": [
    "# Question 8: Find the square root of 23.456\n",
    "print(\"Question 8: Find the square root of 23.456\")\n",
    "sqrt_val = (23.456) ** 0.5\n",
    "print(f\"Square root: {sqrt_val:.4f}\")"
   ]
  },
  {
   "cell_type": "code",
   "execution_count": 14,
   "id": "7cc2e749",
   "metadata": {},
   "outputs": [
    {
     "name": "stdout",
     "output_type": "stream",
     "text": [
      "Question 9: Calculate simple interest: Principal=2500, Rate=6.5%, Time=2.5 years\n",
      "Simple Interest: 406.25\n"
     ]
    }
   ],
   "source": [
    "# Question 9: Calculate the simple interest: Principal=2500, Rate=6.5%, Time=2.5 years\n",
    "print(\"Question 9: Calculate simple interest: Principal=2500, Rate=6.5%, Time=2.5 years\")\n",
    "P = 2500\n",
    "R = 6.5 / 100\n",
    "T = 2.5\n",
    "SI = P * R * T\n",
    "print(f\"Simple Interest: {SI:.2f}\")"
   ]
  },
  {
   "cell_type": "code",
   "execution_count": 17,
   "id": "a19982d8",
   "metadata": {},
   "outputs": [
    {
     "name": "stdout",
     "output_type": "stream",
     "text": [
      "Question 10: Convert 45.7 degrees to radians\n",
      "45.7° = 0.7976 radians\n"
     ]
    }
   ],
   "source": [
    "# Question 10: Convert 45.7 degrees to radians\n",
    "print(\"Question 10: Convert 45.7 degrees to radians\")\n",
    "degrees = 45.7\n",
    "pi = 3.14159\n",
    "radians = degrees * ( pi / 180)\n",
    "print(f\"{degrees}° = {radians:.4f} radians\")"
   ]
  },
  {
   "cell_type": "code",
   "execution_count": null,
   "id": "f2043903",
   "metadata": {},
   "outputs": [],
   "source": []
  }
 ],
 "metadata": {
  "kernelspec": {
   "display_name": "base",
   "language": "python",
   "name": "python3"
  },
  "language_info": {
   "codemirror_mode": {
    "name": "ipython",
    "version": 3
   },
   "file_extension": ".py",
   "mimetype": "text/x-python",
   "name": "python",
   "nbconvert_exporter": "python",
   "pygments_lexer": "ipython3",
   "version": "3.13.5"
  }
 },
 "nbformat": 4,
 "nbformat_minor": 5
}
